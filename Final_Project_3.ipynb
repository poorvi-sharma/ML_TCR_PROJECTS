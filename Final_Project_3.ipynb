{
  "nbformat": 4,
  "nbformat_minor": 0,
  "metadata": {
    "colab": {
      "name": "Final-Project-3.ipynb",
      "provenance": [],
      "collapsed_sections": [],
      "authorship_tag": "ABX9TyMoPANCsVU+rYYLFo+EZ1CY",
      "include_colab_link": true
    },
    "kernelspec": {
      "display_name": "Python 3",
      "name": "python3"
    },
    "language_info": {
      "name": "python"
    }
  },
  "cells": [
    {
      "cell_type": "markdown",
      "metadata": {
        "id": "view-in-github",
        "colab_type": "text"
      },
      "source": [
        "<a href=\"https://colab.research.google.com/github/poorvi-sharma/ML_TCR_PROJECTS/blob/main/Final_Project_3.ipynb\" target=\"_parent\"><img src=\"https://colab.research.google.com/assets/colab-badge.svg\" alt=\"Open In Colab\"/></a>"
      ]
    },
    {
      "cell_type": "markdown",
      "metadata": {
        "id": "XUtT69VopJ8h"
      },
      "source": [
        "# **CREDIT FRAUD DETECTION**"
      ]
    },
    {
      "cell_type": "code",
      "metadata": {
        "colab": {
          "base_uri": "https://localhost:8080/"
        },
        "id": "3AdAwSDJw-jO",
        "outputId": "c0839342-ab84-4c8b-9991-1c1bd33611fb"
      },
      "source": [
        "from google.colab import drive\n",
        "drive.mount('/content/drive')"
      ],
      "execution_count": 1,
      "outputs": [
        {
          "output_type": "stream",
          "name": "stdout",
          "text": [
            "Mounted at /content/drive\n"
          ]
        }
      ]
    },
    {
      "cell_type": "markdown",
      "metadata": {
        "id": "gXMbFUQhNt9Z"
      },
      "source": [
        "**Importing the packages**"
      ]
    },
    {
      "cell_type": "code",
      "metadata": {
        "id": "VloCzMP1xZc7"
      },
      "source": [
        "# We import the required packages\n",
        "\n",
        "# We use Logistic Regression to predict the fraud and non-fraud credit card transactions.\n",
        "\n",
        "import numpy as np\n",
        "import pandas as pd\n",
        "import matplotlib.pyplot as plt\n",
        "import seaborn as sns\n",
        "import os \n",
        "from sklearn.linear_model import LogisticRegression\n",
        "from sklearn.model_selection import train_test_split\n",
        "from sklearn.preprocessing import StandardScaler\n",
        "from sklearn.metrics import accuracy_score\n",
        "from sklearn.metrics import accuracy_score, confusion_matrix, classification_report\n",
        "import warnings\n",
        "warnings.filterwarnings(\"ignore\")"
      ],
      "execution_count": 2,
      "outputs": []
    },
    {
      "cell_type": "markdown",
      "metadata": {
        "id": "oqbzE0l8q9hr"
      },
      "source": [
        "**Loading the dataset**"
      ]
    },
    {
      "cell_type": "code",
      "metadata": {
        "id": "9LOBQS44xa7r"
      },
      "source": [
        "#Loading the dataframe from the CSV data file.\n",
        "\n",
        "dataframe = pd.read_csv('/content/drive/MyDrive/DATASET/creditcard.csv')"
      ],
      "execution_count": 3,
      "outputs": []
    },
    {
      "cell_type": "code",
      "metadata": {
        "colab": {
          "base_uri": "https://localhost:8080/",
          "height": 225
        },
        "id": "3Tv_9xKixn6b",
        "outputId": "a21806ce-6a97-46c9-f11e-2f460785909c"
      },
      "source": [
        "#Viewing the first 5 data rows to get a better idea of the dataset.\n",
        "\n",
        "dataframe.head()"
      ],
      "execution_count": 4,
      "outputs": [
        {
          "output_type": "execute_result",
          "data": {
            "text/html": [
              "<div>\n",
              "<style scoped>\n",
              "    .dataframe tbody tr th:only-of-type {\n",
              "        vertical-align: middle;\n",
              "    }\n",
              "\n",
              "    .dataframe tbody tr th {\n",
              "        vertical-align: top;\n",
              "    }\n",
              "\n",
              "    .dataframe thead th {\n",
              "        text-align: right;\n",
              "    }\n",
              "</style>\n",
              "<table border=\"1\" class=\"dataframe\">\n",
              "  <thead>\n",
              "    <tr style=\"text-align: right;\">\n",
              "      <th></th>\n",
              "      <th>Time</th>\n",
              "      <th>V1</th>\n",
              "      <th>V2</th>\n",
              "      <th>V3</th>\n",
              "      <th>V4</th>\n",
              "      <th>V5</th>\n",
              "      <th>V6</th>\n",
              "      <th>V7</th>\n",
              "      <th>V8</th>\n",
              "      <th>V9</th>\n",
              "      <th>V10</th>\n",
              "      <th>V11</th>\n",
              "      <th>V12</th>\n",
              "      <th>V13</th>\n",
              "      <th>V14</th>\n",
              "      <th>V15</th>\n",
              "      <th>V16</th>\n",
              "      <th>V17</th>\n",
              "      <th>V18</th>\n",
              "      <th>V19</th>\n",
              "      <th>V20</th>\n",
              "      <th>V21</th>\n",
              "      <th>V22</th>\n",
              "      <th>V23</th>\n",
              "      <th>V24</th>\n",
              "      <th>V25</th>\n",
              "      <th>V26</th>\n",
              "      <th>V27</th>\n",
              "      <th>V28</th>\n",
              "      <th>Amount</th>\n",
              "      <th>Class</th>\n",
              "    </tr>\n",
              "  </thead>\n",
              "  <tbody>\n",
              "    <tr>\n",
              "      <th>0</th>\n",
              "      <td>0.0</td>\n",
              "      <td>-1.359807</td>\n",
              "      <td>-0.072781</td>\n",
              "      <td>2.536347</td>\n",
              "      <td>1.378155</td>\n",
              "      <td>-0.338321</td>\n",
              "      <td>0.462388</td>\n",
              "      <td>0.239599</td>\n",
              "      <td>0.098698</td>\n",
              "      <td>0.363787</td>\n",
              "      <td>0.090794</td>\n",
              "      <td>-0.551600</td>\n",
              "      <td>-0.617801</td>\n",
              "      <td>-0.991390</td>\n",
              "      <td>-0.311169</td>\n",
              "      <td>1.468177</td>\n",
              "      <td>-0.470401</td>\n",
              "      <td>0.207971</td>\n",
              "      <td>0.025791</td>\n",
              "      <td>0.403993</td>\n",
              "      <td>0.251412</td>\n",
              "      <td>-0.018307</td>\n",
              "      <td>0.277838</td>\n",
              "      <td>-0.110474</td>\n",
              "      <td>0.066928</td>\n",
              "      <td>0.128539</td>\n",
              "      <td>-0.189115</td>\n",
              "      <td>0.133558</td>\n",
              "      <td>-0.021053</td>\n",
              "      <td>149.62</td>\n",
              "      <td>0</td>\n",
              "    </tr>\n",
              "    <tr>\n",
              "      <th>1</th>\n",
              "      <td>0.0</td>\n",
              "      <td>1.191857</td>\n",
              "      <td>0.266151</td>\n",
              "      <td>0.166480</td>\n",
              "      <td>0.448154</td>\n",
              "      <td>0.060018</td>\n",
              "      <td>-0.082361</td>\n",
              "      <td>-0.078803</td>\n",
              "      <td>0.085102</td>\n",
              "      <td>-0.255425</td>\n",
              "      <td>-0.166974</td>\n",
              "      <td>1.612727</td>\n",
              "      <td>1.065235</td>\n",
              "      <td>0.489095</td>\n",
              "      <td>-0.143772</td>\n",
              "      <td>0.635558</td>\n",
              "      <td>0.463917</td>\n",
              "      <td>-0.114805</td>\n",
              "      <td>-0.183361</td>\n",
              "      <td>-0.145783</td>\n",
              "      <td>-0.069083</td>\n",
              "      <td>-0.225775</td>\n",
              "      <td>-0.638672</td>\n",
              "      <td>0.101288</td>\n",
              "      <td>-0.339846</td>\n",
              "      <td>0.167170</td>\n",
              "      <td>0.125895</td>\n",
              "      <td>-0.008983</td>\n",
              "      <td>0.014724</td>\n",
              "      <td>2.69</td>\n",
              "      <td>0</td>\n",
              "    </tr>\n",
              "    <tr>\n",
              "      <th>2</th>\n",
              "      <td>1.0</td>\n",
              "      <td>-1.358354</td>\n",
              "      <td>-1.340163</td>\n",
              "      <td>1.773209</td>\n",
              "      <td>0.379780</td>\n",
              "      <td>-0.503198</td>\n",
              "      <td>1.800499</td>\n",
              "      <td>0.791461</td>\n",
              "      <td>0.247676</td>\n",
              "      <td>-1.514654</td>\n",
              "      <td>0.207643</td>\n",
              "      <td>0.624501</td>\n",
              "      <td>0.066084</td>\n",
              "      <td>0.717293</td>\n",
              "      <td>-0.165946</td>\n",
              "      <td>2.345865</td>\n",
              "      <td>-2.890083</td>\n",
              "      <td>1.109969</td>\n",
              "      <td>-0.121359</td>\n",
              "      <td>-2.261857</td>\n",
              "      <td>0.524980</td>\n",
              "      <td>0.247998</td>\n",
              "      <td>0.771679</td>\n",
              "      <td>0.909412</td>\n",
              "      <td>-0.689281</td>\n",
              "      <td>-0.327642</td>\n",
              "      <td>-0.139097</td>\n",
              "      <td>-0.055353</td>\n",
              "      <td>-0.059752</td>\n",
              "      <td>378.66</td>\n",
              "      <td>0</td>\n",
              "    </tr>\n",
              "    <tr>\n",
              "      <th>3</th>\n",
              "      <td>1.0</td>\n",
              "      <td>-0.966272</td>\n",
              "      <td>-0.185226</td>\n",
              "      <td>1.792993</td>\n",
              "      <td>-0.863291</td>\n",
              "      <td>-0.010309</td>\n",
              "      <td>1.247203</td>\n",
              "      <td>0.237609</td>\n",
              "      <td>0.377436</td>\n",
              "      <td>-1.387024</td>\n",
              "      <td>-0.054952</td>\n",
              "      <td>-0.226487</td>\n",
              "      <td>0.178228</td>\n",
              "      <td>0.507757</td>\n",
              "      <td>-0.287924</td>\n",
              "      <td>-0.631418</td>\n",
              "      <td>-1.059647</td>\n",
              "      <td>-0.684093</td>\n",
              "      <td>1.965775</td>\n",
              "      <td>-1.232622</td>\n",
              "      <td>-0.208038</td>\n",
              "      <td>-0.108300</td>\n",
              "      <td>0.005274</td>\n",
              "      <td>-0.190321</td>\n",
              "      <td>-1.175575</td>\n",
              "      <td>0.647376</td>\n",
              "      <td>-0.221929</td>\n",
              "      <td>0.062723</td>\n",
              "      <td>0.061458</td>\n",
              "      <td>123.50</td>\n",
              "      <td>0</td>\n",
              "    </tr>\n",
              "    <tr>\n",
              "      <th>4</th>\n",
              "      <td>2.0</td>\n",
              "      <td>-1.158233</td>\n",
              "      <td>0.877737</td>\n",
              "      <td>1.548718</td>\n",
              "      <td>0.403034</td>\n",
              "      <td>-0.407193</td>\n",
              "      <td>0.095921</td>\n",
              "      <td>0.592941</td>\n",
              "      <td>-0.270533</td>\n",
              "      <td>0.817739</td>\n",
              "      <td>0.753074</td>\n",
              "      <td>-0.822843</td>\n",
              "      <td>0.538196</td>\n",
              "      <td>1.345852</td>\n",
              "      <td>-1.119670</td>\n",
              "      <td>0.175121</td>\n",
              "      <td>-0.451449</td>\n",
              "      <td>-0.237033</td>\n",
              "      <td>-0.038195</td>\n",
              "      <td>0.803487</td>\n",
              "      <td>0.408542</td>\n",
              "      <td>-0.009431</td>\n",
              "      <td>0.798278</td>\n",
              "      <td>-0.137458</td>\n",
              "      <td>0.141267</td>\n",
              "      <td>-0.206010</td>\n",
              "      <td>0.502292</td>\n",
              "      <td>0.219422</td>\n",
              "      <td>0.215153</td>\n",
              "      <td>69.99</td>\n",
              "      <td>0</td>\n",
              "    </tr>\n",
              "  </tbody>\n",
              "</table>\n",
              "</div>"
            ],
            "text/plain": [
              "   Time        V1        V2        V3  ...       V27       V28  Amount  Class\n",
              "0   0.0 -1.359807 -0.072781  2.536347  ...  0.133558 -0.021053  149.62      0\n",
              "1   0.0  1.191857  0.266151  0.166480  ... -0.008983  0.014724    2.69      0\n",
              "2   1.0 -1.358354 -1.340163  1.773209  ... -0.055353 -0.059752  378.66      0\n",
              "3   1.0 -0.966272 -0.185226  1.792993  ...  0.062723  0.061458  123.50      0\n",
              "4   2.0 -1.158233  0.877737  1.548718  ...  0.219422  0.215153   69.99      0\n",
              "\n",
              "[5 rows x 31 columns]"
            ]
          },
          "metadata": {},
          "execution_count": 4
        }
      ]
    },
    {
      "cell_type": "markdown",
      "metadata": {
        "id": "ylqN1E19rNfw"
      },
      "source": [
        "**Explorartory Data Analysis**"
      ]
    },
    {
      "cell_type": "code",
      "metadata": {
        "colab": {
          "base_uri": "https://localhost:8080/"
        },
        "id": "Fgyfj6G77BAz",
        "outputId": "df6bf362-ae88-414b-c9d3-85b1f6503865"
      },
      "source": [
        "#The complete information about the data in different columns.\n",
        "\n",
        "# there are no categorical values in the dataset\n",
        "\n",
        "dataframe.info()"
      ],
      "execution_count": 5,
      "outputs": [
        {
          "output_type": "stream",
          "name": "stdout",
          "text": [
            "<class 'pandas.core.frame.DataFrame'>\n",
            "RangeIndex: 284807 entries, 0 to 284806\n",
            "Data columns (total 31 columns):\n",
            " #   Column  Non-Null Count   Dtype  \n",
            "---  ------  --------------   -----  \n",
            " 0   Time    284807 non-null  float64\n",
            " 1   V1      284807 non-null  float64\n",
            " 2   V2      284807 non-null  float64\n",
            " 3   V3      284807 non-null  float64\n",
            " 4   V4      284807 non-null  float64\n",
            " 5   V5      284807 non-null  float64\n",
            " 6   V6      284807 non-null  float64\n",
            " 7   V7      284807 non-null  float64\n",
            " 8   V8      284807 non-null  float64\n",
            " 9   V9      284807 non-null  float64\n",
            " 10  V10     284807 non-null  float64\n",
            " 11  V11     284807 non-null  float64\n",
            " 12  V12     284807 non-null  float64\n",
            " 13  V13     284807 non-null  float64\n",
            " 14  V14     284807 non-null  float64\n",
            " 15  V15     284807 non-null  float64\n",
            " 16  V16     284807 non-null  float64\n",
            " 17  V17     284807 non-null  float64\n",
            " 18  V18     284807 non-null  float64\n",
            " 19  V19     284807 non-null  float64\n",
            " 20  V20     284807 non-null  float64\n",
            " 21  V21     284807 non-null  float64\n",
            " 22  V22     284807 non-null  float64\n",
            " 23  V23     284807 non-null  float64\n",
            " 24  V24     284807 non-null  float64\n",
            " 25  V25     284807 non-null  float64\n",
            " 26  V26     284807 non-null  float64\n",
            " 27  V27     284807 non-null  float64\n",
            " 28  V28     284807 non-null  float64\n",
            " 29  Amount  284807 non-null  float64\n",
            " 30  Class   284807 non-null  int64  \n",
            "dtypes: float64(30), int64(1)\n",
            "memory usage: 67.4 MB\n"
          ]
        }
      ]
    },
    {
      "cell_type": "code",
      "metadata": {
        "colab": {
          "base_uri": "https://localhost:8080/"
        },
        "id": "28ndjHud6zXL",
        "outputId": "0a7f1aaf-1eae-478a-f534-5f63a2c356f3"
      },
      "source": [
        "# Let us understand the shape of our data\n",
        "\n",
        "dataframe.shape"
      ],
      "execution_count": 6,
      "outputs": [
        {
          "output_type": "execute_result",
          "data": {
            "text/plain": [
              "(284807, 31)"
            ]
          },
          "metadata": {},
          "execution_count": 6
        }
      ]
    },
    {
      "cell_type": "code",
      "metadata": {
        "colab": {
          "base_uri": "https://localhost:8080/"
        },
        "id": "TFvQhIB-8AAE",
        "outputId": "75c50b0a-eb40-4e1b-8e3c-d51544de6683"
      },
      "source": [
        "# Checking for duplicate values in the dataset\n",
        "\n",
        "duplicate_rows = dataframe[dataframe.duplicated()]\n",
        "print(\"Number of duplicate rows: \", duplicate_rows.shape )"
      ],
      "execution_count": 7,
      "outputs": [
        {
          "output_type": "stream",
          "name": "stdout",
          "text": [
            "Number of duplicate rows:  (1081, 31)\n"
          ]
        }
      ]
    },
    {
      "cell_type": "code",
      "metadata": {
        "colab": {
          "base_uri": "https://localhost:8080/"
        },
        "id": "7cW2l7nv9X_Z",
        "outputId": "eb29ea12-bf39-47b3-915c-f411842258df"
      },
      "source": [
        "# removing the duplicate values\n",
        "dataframe = dataframe.drop_duplicates()\n",
        "print(dataframe.shape)"
      ],
      "execution_count": 8,
      "outputs": [
        {
          "output_type": "stream",
          "name": "stdout",
          "text": [
            "(283726, 31)\n"
          ]
        }
      ]
    },
    {
      "cell_type": "code",
      "metadata": {
        "colab": {
          "base_uri": "https://localhost:8080/",
          "height": 319
        },
        "id": "i4HIYq5nxsKm",
        "outputId": "815197ee-763f-46a8-d16f-e97a8308b94a"
      },
      "source": [
        "#We can understand the dataset by the various analytics about it\n",
        "\n",
        "dataframe.describe()"
      ],
      "execution_count": 9,
      "outputs": [
        {
          "output_type": "execute_result",
          "data": {
            "text/html": [
              "<div>\n",
              "<style scoped>\n",
              "    .dataframe tbody tr th:only-of-type {\n",
              "        vertical-align: middle;\n",
              "    }\n",
              "\n",
              "    .dataframe tbody tr th {\n",
              "        vertical-align: top;\n",
              "    }\n",
              "\n",
              "    .dataframe thead th {\n",
              "        text-align: right;\n",
              "    }\n",
              "</style>\n",
              "<table border=\"1\" class=\"dataframe\">\n",
              "  <thead>\n",
              "    <tr style=\"text-align: right;\">\n",
              "      <th></th>\n",
              "      <th>Time</th>\n",
              "      <th>V1</th>\n",
              "      <th>V2</th>\n",
              "      <th>V3</th>\n",
              "      <th>V4</th>\n",
              "      <th>V5</th>\n",
              "      <th>V6</th>\n",
              "      <th>V7</th>\n",
              "      <th>V8</th>\n",
              "      <th>V9</th>\n",
              "      <th>V10</th>\n",
              "      <th>V11</th>\n",
              "      <th>V12</th>\n",
              "      <th>V13</th>\n",
              "      <th>V14</th>\n",
              "      <th>V15</th>\n",
              "      <th>V16</th>\n",
              "      <th>V17</th>\n",
              "      <th>V18</th>\n",
              "      <th>V19</th>\n",
              "      <th>V20</th>\n",
              "      <th>V21</th>\n",
              "      <th>V22</th>\n",
              "      <th>V23</th>\n",
              "      <th>V24</th>\n",
              "      <th>V25</th>\n",
              "      <th>V26</th>\n",
              "      <th>V27</th>\n",
              "      <th>V28</th>\n",
              "      <th>Amount</th>\n",
              "      <th>Class</th>\n",
              "    </tr>\n",
              "  </thead>\n",
              "  <tbody>\n",
              "    <tr>\n",
              "      <th>count</th>\n",
              "      <td>283726.000000</td>\n",
              "      <td>283726.000000</td>\n",
              "      <td>283726.000000</td>\n",
              "      <td>283726.000000</td>\n",
              "      <td>283726.000000</td>\n",
              "      <td>283726.000000</td>\n",
              "      <td>283726.000000</td>\n",
              "      <td>283726.000000</td>\n",
              "      <td>283726.000000</td>\n",
              "      <td>283726.000000</td>\n",
              "      <td>283726.000000</td>\n",
              "      <td>283726.000000</td>\n",
              "      <td>283726.000000</td>\n",
              "      <td>283726.000000</td>\n",
              "      <td>283726.000000</td>\n",
              "      <td>283726.000000</td>\n",
              "      <td>283726.000000</td>\n",
              "      <td>283726.000000</td>\n",
              "      <td>283726.000000</td>\n",
              "      <td>283726.000000</td>\n",
              "      <td>283726.000000</td>\n",
              "      <td>283726.000000</td>\n",
              "      <td>283726.000000</td>\n",
              "      <td>283726.000000</td>\n",
              "      <td>283726.000000</td>\n",
              "      <td>283726.000000</td>\n",
              "      <td>283726.000000</td>\n",
              "      <td>283726.000000</td>\n",
              "      <td>283726.000000</td>\n",
              "      <td>283726.000000</td>\n",
              "      <td>283726.000000</td>\n",
              "    </tr>\n",
              "    <tr>\n",
              "      <th>mean</th>\n",
              "      <td>94811.077600</td>\n",
              "      <td>0.005917</td>\n",
              "      <td>-0.004135</td>\n",
              "      <td>0.001613</td>\n",
              "      <td>-0.002966</td>\n",
              "      <td>0.001828</td>\n",
              "      <td>-0.001139</td>\n",
              "      <td>0.001801</td>\n",
              "      <td>-0.000854</td>\n",
              "      <td>-0.001596</td>\n",
              "      <td>-0.001441</td>\n",
              "      <td>0.000202</td>\n",
              "      <td>-0.000715</td>\n",
              "      <td>0.000603</td>\n",
              "      <td>0.000252</td>\n",
              "      <td>0.001043</td>\n",
              "      <td>0.001162</td>\n",
              "      <td>0.000170</td>\n",
              "      <td>0.001515</td>\n",
              "      <td>-0.000264</td>\n",
              "      <td>0.000187</td>\n",
              "      <td>-0.000371</td>\n",
              "      <td>-0.000015</td>\n",
              "      <td>0.000198</td>\n",
              "      <td>0.000214</td>\n",
              "      <td>-0.000232</td>\n",
              "      <td>0.000149</td>\n",
              "      <td>0.001763</td>\n",
              "      <td>0.000547</td>\n",
              "      <td>88.472687</td>\n",
              "      <td>0.001667</td>\n",
              "    </tr>\n",
              "    <tr>\n",
              "      <th>std</th>\n",
              "      <td>47481.047891</td>\n",
              "      <td>1.948026</td>\n",
              "      <td>1.646703</td>\n",
              "      <td>1.508682</td>\n",
              "      <td>1.414184</td>\n",
              "      <td>1.377008</td>\n",
              "      <td>1.331931</td>\n",
              "      <td>1.227664</td>\n",
              "      <td>1.179054</td>\n",
              "      <td>1.095492</td>\n",
              "      <td>1.076407</td>\n",
              "      <td>1.018720</td>\n",
              "      <td>0.994674</td>\n",
              "      <td>0.995430</td>\n",
              "      <td>0.952215</td>\n",
              "      <td>0.914894</td>\n",
              "      <td>0.873696</td>\n",
              "      <td>0.842507</td>\n",
              "      <td>0.837378</td>\n",
              "      <td>0.813379</td>\n",
              "      <td>0.769984</td>\n",
              "      <td>0.723909</td>\n",
              "      <td>0.724550</td>\n",
              "      <td>0.623702</td>\n",
              "      <td>0.605627</td>\n",
              "      <td>0.521220</td>\n",
              "      <td>0.482053</td>\n",
              "      <td>0.395744</td>\n",
              "      <td>0.328027</td>\n",
              "      <td>250.399437</td>\n",
              "      <td>0.040796</td>\n",
              "    </tr>\n",
              "    <tr>\n",
              "      <th>min</th>\n",
              "      <td>0.000000</td>\n",
              "      <td>-56.407510</td>\n",
              "      <td>-72.715728</td>\n",
              "      <td>-48.325589</td>\n",
              "      <td>-5.683171</td>\n",
              "      <td>-113.743307</td>\n",
              "      <td>-26.160506</td>\n",
              "      <td>-43.557242</td>\n",
              "      <td>-73.216718</td>\n",
              "      <td>-13.434066</td>\n",
              "      <td>-24.588262</td>\n",
              "      <td>-4.797473</td>\n",
              "      <td>-18.683715</td>\n",
              "      <td>-5.791881</td>\n",
              "      <td>-19.214325</td>\n",
              "      <td>-4.498945</td>\n",
              "      <td>-14.129855</td>\n",
              "      <td>-25.162799</td>\n",
              "      <td>-9.498746</td>\n",
              "      <td>-7.213527</td>\n",
              "      <td>-54.497720</td>\n",
              "      <td>-34.830382</td>\n",
              "      <td>-10.933144</td>\n",
              "      <td>-44.807735</td>\n",
              "      <td>-2.836627</td>\n",
              "      <td>-10.295397</td>\n",
              "      <td>-2.604551</td>\n",
              "      <td>-22.565679</td>\n",
              "      <td>-15.430084</td>\n",
              "      <td>0.000000</td>\n",
              "      <td>0.000000</td>\n",
              "    </tr>\n",
              "    <tr>\n",
              "      <th>25%</th>\n",
              "      <td>54204.750000</td>\n",
              "      <td>-0.915951</td>\n",
              "      <td>-0.600321</td>\n",
              "      <td>-0.889682</td>\n",
              "      <td>-0.850134</td>\n",
              "      <td>-0.689830</td>\n",
              "      <td>-0.769031</td>\n",
              "      <td>-0.552509</td>\n",
              "      <td>-0.208828</td>\n",
              "      <td>-0.644221</td>\n",
              "      <td>-0.535578</td>\n",
              "      <td>-0.761649</td>\n",
              "      <td>-0.406198</td>\n",
              "      <td>-0.647862</td>\n",
              "      <td>-0.425732</td>\n",
              "      <td>-0.581452</td>\n",
              "      <td>-0.466860</td>\n",
              "      <td>-0.483928</td>\n",
              "      <td>-0.498014</td>\n",
              "      <td>-0.456289</td>\n",
              "      <td>-0.211469</td>\n",
              "      <td>-0.228305</td>\n",
              "      <td>-0.542700</td>\n",
              "      <td>-0.161703</td>\n",
              "      <td>-0.354453</td>\n",
              "      <td>-0.317485</td>\n",
              "      <td>-0.326763</td>\n",
              "      <td>-0.070641</td>\n",
              "      <td>-0.052818</td>\n",
              "      <td>5.600000</td>\n",
              "      <td>0.000000</td>\n",
              "    </tr>\n",
              "    <tr>\n",
              "      <th>50%</th>\n",
              "      <td>84692.500000</td>\n",
              "      <td>0.020384</td>\n",
              "      <td>0.063949</td>\n",
              "      <td>0.179963</td>\n",
              "      <td>-0.022248</td>\n",
              "      <td>-0.053468</td>\n",
              "      <td>-0.275168</td>\n",
              "      <td>0.040859</td>\n",
              "      <td>0.021898</td>\n",
              "      <td>-0.052596</td>\n",
              "      <td>-0.093237</td>\n",
              "      <td>-0.032306</td>\n",
              "      <td>0.139072</td>\n",
              "      <td>-0.012927</td>\n",
              "      <td>0.050209</td>\n",
              "      <td>0.049299</td>\n",
              "      <td>0.067119</td>\n",
              "      <td>-0.065867</td>\n",
              "      <td>-0.002142</td>\n",
              "      <td>0.003367</td>\n",
              "      <td>-0.062353</td>\n",
              "      <td>-0.029441</td>\n",
              "      <td>0.006675</td>\n",
              "      <td>-0.011159</td>\n",
              "      <td>0.041016</td>\n",
              "      <td>0.016278</td>\n",
              "      <td>-0.052172</td>\n",
              "      <td>0.001479</td>\n",
              "      <td>0.011288</td>\n",
              "      <td>22.000000</td>\n",
              "      <td>0.000000</td>\n",
              "    </tr>\n",
              "    <tr>\n",
              "      <th>75%</th>\n",
              "      <td>139298.000000</td>\n",
              "      <td>1.316068</td>\n",
              "      <td>0.800283</td>\n",
              "      <td>1.026960</td>\n",
              "      <td>0.739647</td>\n",
              "      <td>0.612218</td>\n",
              "      <td>0.396792</td>\n",
              "      <td>0.570474</td>\n",
              "      <td>0.325704</td>\n",
              "      <td>0.595977</td>\n",
              "      <td>0.453619</td>\n",
              "      <td>0.739579</td>\n",
              "      <td>0.616976</td>\n",
              "      <td>0.663178</td>\n",
              "      <td>0.492336</td>\n",
              "      <td>0.650104</td>\n",
              "      <td>0.523512</td>\n",
              "      <td>0.398972</td>\n",
              "      <td>0.501956</td>\n",
              "      <td>0.458508</td>\n",
              "      <td>0.133207</td>\n",
              "      <td>0.186194</td>\n",
              "      <td>0.528245</td>\n",
              "      <td>0.147748</td>\n",
              "      <td>0.439738</td>\n",
              "      <td>0.350667</td>\n",
              "      <td>0.240261</td>\n",
              "      <td>0.091208</td>\n",
              "      <td>0.078276</td>\n",
              "      <td>77.510000</td>\n",
              "      <td>0.000000</td>\n",
              "    </tr>\n",
              "    <tr>\n",
              "      <th>max</th>\n",
              "      <td>172792.000000</td>\n",
              "      <td>2.454930</td>\n",
              "      <td>22.057729</td>\n",
              "      <td>9.382558</td>\n",
              "      <td>16.875344</td>\n",
              "      <td>34.801666</td>\n",
              "      <td>73.301626</td>\n",
              "      <td>120.589494</td>\n",
              "      <td>20.007208</td>\n",
              "      <td>15.594995</td>\n",
              "      <td>23.745136</td>\n",
              "      <td>12.018913</td>\n",
              "      <td>7.848392</td>\n",
              "      <td>7.126883</td>\n",
              "      <td>10.526766</td>\n",
              "      <td>8.877742</td>\n",
              "      <td>17.315112</td>\n",
              "      <td>9.253526</td>\n",
              "      <td>5.041069</td>\n",
              "      <td>5.591971</td>\n",
              "      <td>39.420904</td>\n",
              "      <td>27.202839</td>\n",
              "      <td>10.503090</td>\n",
              "      <td>22.528412</td>\n",
              "      <td>4.584549</td>\n",
              "      <td>7.519589</td>\n",
              "      <td>3.517346</td>\n",
              "      <td>31.612198</td>\n",
              "      <td>33.847808</td>\n",
              "      <td>25691.160000</td>\n",
              "      <td>1.000000</td>\n",
              "    </tr>\n",
              "  </tbody>\n",
              "</table>\n",
              "</div>"
            ],
            "text/plain": [
              "                Time             V1  ...         Amount          Class\n",
              "count  283726.000000  283726.000000  ...  283726.000000  283726.000000\n",
              "mean    94811.077600       0.005917  ...      88.472687       0.001667\n",
              "std     47481.047891       1.948026  ...     250.399437       0.040796\n",
              "min         0.000000     -56.407510  ...       0.000000       0.000000\n",
              "25%     54204.750000      -0.915951  ...       5.600000       0.000000\n",
              "50%     84692.500000       0.020384  ...      22.000000       0.000000\n",
              "75%    139298.000000       1.316068  ...      77.510000       0.000000\n",
              "max    172792.000000       2.454930  ...   25691.160000       1.000000\n",
              "\n",
              "[8 rows x 31 columns]"
            ]
          },
          "metadata": {},
          "execution_count": 9
        }
      ]
    },
    {
      "cell_type": "markdown",
      "metadata": {
        "id": "OZ7AP7HhMcz5"
      },
      "source": [
        "***Summary:***<br>\n",
        "The transaction amount is relatively small. The mean of all the mounts made is approximately USD 88.<br>\n",
        "There are no \"Null\" values, so we don't have to work on ways to replace values.<br>\n",
        "Most of the transactions were Non-Fraud (99.83%) of the time, while Fraud transactions occurs (017%) of the time in the dataframe."
      ]
    },
    {
      "cell_type": "markdown",
      "metadata": {
        "id": "eD8J6VEmN4n0"
      },
      "source": [
        "**Fraud and Non-Fraud Transactions**"
      ]
    },
    {
      "cell_type": "code",
      "metadata": {
        "colab": {
          "base_uri": "https://localhost:8080/"
        },
        "id": "9m2pmAnX9u1k",
        "outputId": "9fde7742-4ca0-4615-8d7d-cb4c198721a6"
      },
      "source": [
        "print('Legit Transactions:', round(dataframe['Class'].value_counts()[0]/len(dataframe) * 100,2),'%')\n",
        "print('Frauds Transactions:', round(dataframe['Class'].value_counts()[1]/len(dataframe) * 100,2),'%')\n",
        "# the classes are heavily skewed we need to solve this issue later"
      ],
      "execution_count": 10,
      "outputs": [
        {
          "output_type": "stream",
          "name": "stdout",
          "text": [
            "Legit Transactions: 99.83 %\n",
            "Frauds Transactions: 0.17 %\n"
          ]
        }
      ]
    },
    {
      "cell_type": "code",
      "metadata": {
        "colab": {
          "base_uri": "https://localhost:8080/"
        },
        "id": "EzseBDpwyAlZ",
        "outputId": "2ab18a3c-0417-400b-f99f-1c06e1d0a997"
      },
      "source": [
        "# Thre are no null values in our dataset\n",
        "\n",
        "dataframe.isnull().sum().sum()"
      ],
      "execution_count": 11,
      "outputs": [
        {
          "output_type": "execute_result",
          "data": {
            "text/plain": [
              "0"
            ]
          },
          "metadata": {},
          "execution_count": 11
        }
      ]
    },
    {
      "cell_type": "code",
      "metadata": {
        "colab": {
          "base_uri": "https://localhost:8080/"
        },
        "id": "8tyCaKeFVwty",
        "outputId": "c7f721f4-f55f-4a38-ea94-a1964c747cfb"
      },
      "source": [
        "# Let us know the columns present in our dataset\n",
        "\n",
        "dataframe.columns"
      ],
      "execution_count": 12,
      "outputs": [
        {
          "output_type": "execute_result",
          "data": {
            "text/plain": [
              "Index(['Time', 'V1', 'V2', 'V3', 'V4', 'V5', 'V6', 'V7', 'V8', 'V9', 'V10',\n",
              "       'V11', 'V12', 'V13', 'V14', 'V15', 'V16', 'V17', 'V18', 'V19', 'V20',\n",
              "       'V21', 'V22', 'V23', 'V24', 'V25', 'V26', 'V27', 'V28', 'Amount',\n",
              "       'Class'],\n",
              "      dtype='object')"
            ]
          },
          "metadata": {},
          "execution_count": 12
        }
      ]
    },
    {
      "cell_type": "markdown",
      "metadata": {
        "id": "SmzUiK2AssBC"
      },
      "source": [
        "The information about frauds is present in the class column. To undestand the nature of this column we plot a graph of its two different values."
      ]
    },
    {
      "cell_type": "code",
      "metadata": {
        "colab": {
          "base_uri": "https://localhost:8080/",
          "height": 331
        },
        "id": "J6Q-vcdgW3uh",
        "outputId": "c2410317-8e3f-4db9-fcd3-22f3c97626da"
      },
      "source": [
        "colors = [\"#0101DF\", \"#DF0101\"]\n",
        "sns.countplot('Class', data=dataframe, palette=colors)\n",
        "plt.title('Class Distributions \\n (0: No Fraud || 1: Fraud)', fontsize=14)"
      ],
      "execution_count": 13,
      "outputs": [
        {
          "output_type": "execute_result",
          "data": {
            "text/plain": [
              "Text(0.5, 1.0, 'Class Distributions \\n (0: No Fraud || 1: Fraud)')"
            ]
          },
          "metadata": {},
          "execution_count": 13
        },
        {
          "output_type": "display_data",
          "data": {
            "image/png": "[encoded data removed]",
            "text/plain": [
              "<Figure size 432x288 with 1 Axes>"
            ]
          },
          "metadata": {
            "needs_background": "light"
          }
        }
      ]
    },
    {
      "cell_type": "markdown",
      "metadata": {
        "id": "6nH8FC6DMtpS"
      },
      "source": [
        "We can notice that the dataset is highly imbalanced. <br>\n",
        "Most of the transactions are non-fraud. If we use this dataframe as the base for our predictive models and analysis we might get a lot of errors and our algorithms will probably overfit since it will \"assume\" that most transactions are not fraud."
      ]
    },
    {
      "cell_type": "markdown",
      "metadata": {
        "id": "dqaHcRYss-vL"
      },
      "source": [
        "**Time and amount distribution**"
      ]
    },
    {
      "cell_type": "markdown",
      "metadata": {
        "id": "Kg53JHznNWef"
      },
      "source": [
        "By seeing the distributions we can have an idea how skewed are these features."
      ]
    },
    {
      "cell_type": "code",
      "metadata": {
        "colab": {
          "base_uri": "https://localhost:8080/",
          "height": 282
        },
        "id": "53kbYfdCXeL8",
        "outputId": "109fd6b6-9a7b-44e9-fd81-e328537b512e"
      },
      "source": [
        "fig, ax = plt.subplots(1, 2, figsize=(18,4))\n",
        "\n",
        "amount_val = dataframe['Amount'].values\n",
        "time_val = dataframe['Time'].values\n",
        "\n",
        "sns.distplot(amount_val, ax=ax[0], color='r')\n",
        "ax[0].set_title('Distribution of Transaction Amount', fontsize=14)\n",
        "ax[0].set_xlim([min(amount_val), max(amount_val)])\n",
        "\n",
        "sns.distplot(time_val, ax=ax[1], color='b')\n",
        "ax[1].set_title('Distribution of Transaction Time', fontsize=14)\n",
        "ax[1].set_xlim([min(time_val), max(time_val)])\n",
        "\n",
        "\n",
        "\n",
        "plt.show()"
      ],
      "execution_count": 14,
      "outputs": [
        {
          "output_type": "display_data",
          "data": {
            "image/png": "[encoded data removed]",
            "text/plain": [
              "<Figure size 1296x288 with 2 Axes>"
            ]
          },
          "metadata": {
            "needs_background": "light"
          }
        }
      ]
    },
    {
      "cell_type": "markdown",
      "metadata": {
        "id": "mrK2nZ6I-bsD"
      },
      "source": [
        "We can see that only time and amount are not scaled in the dataset so we scale them to reduce the skewness and make the data uniformly scaled."
      ]
    },
    {
      "cell_type": "markdown",
      "metadata": {
        "id": "G2I64ioKOGIT"
      },
      "source": [
        "**Scaling of Time and Amount**"
      ]
    },
    {
      "cell_type": "code",
      "metadata": {
        "id": "pzhBOJbmXeP_"
      },
      "source": [
        "from sklearn.preprocessing import StandardScaler, RobustScaler\n",
        "\n",
        "# RobustScaler is less prone to outliers.\n",
        "\n",
        "std_scaler = StandardScaler()\n",
        "rob_scaler = RobustScaler()\n",
        "\n",
        "dataframe['scaled_amount'] = rob_scaler.fit_transform(dataframe['Amount'].values.reshape(-1,1))\n",
        "dataframe['scaled_time'] = rob_scaler.fit_transform(dataframe['Time'].values.reshape(-1,1))\n",
        "\n",
        "dataframe.drop(['Time','Amount'], axis=1, inplace=True)"
      ],
      "execution_count": 15,
      "outputs": []
    },
    {
      "cell_type": "code",
      "metadata": {
        "colab": {
          "base_uri": "https://localhost:8080/",
          "height": 225
        },
        "id": "BIvQ4Fe2XeTW",
        "outputId": "e02d9576-a98c-4801-9903-5d490c66a285"
      },
      "source": [
        "scaled_amount = dataframe['scaled_amount']\n",
        "scaled_time = dataframe['scaled_time']\n",
        "\n",
        "dataframe.drop(['scaled_amount', 'scaled_time'], axis=1, inplace=True)\n",
        "dataframe.insert(0, 'scaled_amount', scaled_amount)\n",
        "dataframe.insert(1, 'scaled_time', scaled_time)\n",
        "\n",
        "# Amount and Time are Scaled!\n",
        "\n",
        "dataframe.head()"
      ],
      "execution_count": 16,
      "outputs": [
        {
          "output_type": "execute_result",
          "data": {
            "text/html": [
              "<div>\n",
              "<style scoped>\n",
              "    .dataframe tbody tr th:only-of-type {\n",
              "        vertical-align: middle;\n",
              "    }\n",
              "\n",
              "    .dataframe tbody tr th {\n",
              "        vertical-align: top;\n",
              "    }\n",
              "\n",
              "    .dataframe thead th {\n",
              "        text-align: right;\n",
              "    }\n",
              "</style>\n",
              "<table border=\"1\" class=\"dataframe\">\n",
              "  <thead>\n",
              "    <tr style=\"text-align: right;\">\n",
              "      <th></th>\n",
              "      <th>scaled_amount</th>\n",
              "      <th>scaled_time</th>\n",
              "      <th>V1</th>\n",
              "      <th>V2</th>\n",
              "      <th>V3</th>\n",
              "      <th>V4</th>\n",
              "      <th>V5</th>\n",
              "      <th>V6</th>\n",
              "      <th>V7</th>\n",
              "      <th>V8</th>\n",
              "      <th>V9</th>\n",
              "      <th>V10</th>\n",
              "      <th>V11</th>\n",
              "      <th>V12</th>\n",
              "      <th>V13</th>\n",
              "      <th>V14</th>\n",
              "      <th>V15</th>\n",
              "      <th>V16</th>\n",
              "      <th>V17</th>\n",
              "      <th>V18</th>\n",
              "      <th>V19</th>\n",
              "      <th>V20</th>\n",
              "      <th>V21</th>\n",
              "      <th>V22</th>\n",
              "      <th>V23</th>\n",
              "      <th>V24</th>\n",
              "      <th>V25</th>\n",
              "      <th>V26</th>\n",
              "      <th>V27</th>\n",
              "      <th>V28</th>\n",
              "      <th>Class</th>\n",
              "    </tr>\n",
              "  </thead>\n",
              "  <tbody>\n",
              "    <tr>\n",
              "      <th>0</th>\n",
              "      <td>1.774718</td>\n",
              "      <td>-0.995290</td>\n",
              "      <td>-1.359807</td>\n",
              "      <td>-0.072781</td>\n",
              "      <td>2.536347</td>\n",
              "      <td>1.378155</td>\n",
              "      <td>-0.338321</td>\n",
              "      <td>0.462388</td>\n",
              "      <td>0.239599</td>\n",
              "      <td>0.098698</td>\n",
              "      <td>0.363787</td>\n",
              "      <td>0.090794</td>\n",
              "      <td>-0.551600</td>\n",
              "      <td>-0.617801</td>\n",
              "      <td>-0.991390</td>\n",
              "      <td>-0.311169</td>\n",
              "      <td>1.468177</td>\n",
              "      <td>-0.470401</td>\n",
              "      <td>0.207971</td>\n",
              "      <td>0.025791</td>\n",
              "      <td>0.403993</td>\n",
              "      <td>0.251412</td>\n",
              "      <td>-0.018307</td>\n",
              "      <td>0.277838</td>\n",
              "      <td>-0.110474</td>\n",
              "      <td>0.066928</td>\n",
              "      <td>0.128539</td>\n",
              "      <td>-0.189115</td>\n",
              "      <td>0.133558</td>\n",
              "      <td>-0.021053</td>\n",
              "      <td>0</td>\n",
              "    </tr>\n",
              "    <tr>\n",
              "      <th>1</th>\n",
              "      <td>-0.268530</td>\n",
              "      <td>-0.995290</td>\n",
              "      <td>1.191857</td>\n",
              "      <td>0.266151</td>\n",
              "      <td>0.166480</td>\n",
              "      <td>0.448154</td>\n",
              "      <td>0.060018</td>\n",
              "      <td>-0.082361</td>\n",
              "      <td>-0.078803</td>\n",
              "      <td>0.085102</td>\n",
              "      <td>-0.255425</td>\n",
              "      <td>-0.166974</td>\n",
              "      <td>1.612727</td>\n",
              "      <td>1.065235</td>\n",
              "      <td>0.489095</td>\n",
              "      <td>-0.143772</td>\n",
              "      <td>0.635558</td>\n",
              "      <td>0.463917</td>\n",
              "      <td>-0.114805</td>\n",
              "      <td>-0.183361</td>\n",
              "      <td>-0.145783</td>\n",
              "      <td>-0.069083</td>\n",
              "      <td>-0.225775</td>\n",
              "      <td>-0.638672</td>\n",
              "      <td>0.101288</td>\n",
              "      <td>-0.339846</td>\n",
              "      <td>0.167170</td>\n",
              "      <td>0.125895</td>\n",
              "      <td>-0.008983</td>\n",
              "      <td>0.014724</td>\n",
              "      <td>0</td>\n",
              "    </tr>\n",
              "    <tr>\n",
              "      <th>2</th>\n",
              "      <td>4.959811</td>\n",
              "      <td>-0.995279</td>\n",
              "      <td>-1.358354</td>\n",
              "      <td>-1.340163</td>\n",
              "      <td>1.773209</td>\n",
              "      <td>0.379780</td>\n",
              "      <td>-0.503198</td>\n",
              "      <td>1.800499</td>\n",
              "      <td>0.791461</td>\n",
              "      <td>0.247676</td>\n",
              "      <td>-1.514654</td>\n",
              "      <td>0.207643</td>\n",
              "      <td>0.624501</td>\n",
              "      <td>0.066084</td>\n",
              "      <td>0.717293</td>\n",
              "      <td>-0.165946</td>\n",
              "      <td>2.345865</td>\n",
              "      <td>-2.890083</td>\n",
              "      <td>1.109969</td>\n",
              "      <td>-0.121359</td>\n",
              "      <td>-2.261857</td>\n",
              "      <td>0.524980</td>\n",
              "      <td>0.247998</td>\n",
              "      <td>0.771679</td>\n",
              "      <td>0.909412</td>\n",
              "      <td>-0.689281</td>\n",
              "      <td>-0.327642</td>\n",
              "      <td>-0.139097</td>\n",
              "      <td>-0.055353</td>\n",
              "      <td>-0.059752</td>\n",
              "      <td>0</td>\n",
              "    </tr>\n",
              "    <tr>\n",
              "      <th>3</th>\n",
              "      <td>1.411487</td>\n",
              "      <td>-0.995279</td>\n",
              "      <td>-0.966272</td>\n",
              "      <td>-0.185226</td>\n",
              "      <td>1.792993</td>\n",
              "      <td>-0.863291</td>\n",
              "      <td>-0.010309</td>\n",
              "      <td>1.247203</td>\n",
              "      <td>0.237609</td>\n",
              "      <td>0.377436</td>\n",
              "      <td>-1.387024</td>\n",
              "      <td>-0.054952</td>\n",
              "      <td>-0.226487</td>\n",
              "      <td>0.178228</td>\n",
              "      <td>0.507757</td>\n",
              "      <td>-0.287924</td>\n",
              "      <td>-0.631418</td>\n",
              "      <td>-1.059647</td>\n",
              "      <td>-0.684093</td>\n",
              "      <td>1.965775</td>\n",
              "      <td>-1.232622</td>\n",
              "      <td>-0.208038</td>\n",
              "      <td>-0.108300</td>\n",
              "      <td>0.005274</td>\n",
              "      <td>-0.190321</td>\n",
              "      <td>-1.175575</td>\n",
              "      <td>0.647376</td>\n",
              "      <td>-0.221929</td>\n",
              "      <td>0.062723</td>\n",
              "      <td>0.061458</td>\n",
              "      <td>0</td>\n",
              "    </tr>\n",
              "    <tr>\n",
              "      <th>4</th>\n",
              "      <td>0.667362</td>\n",
              "      <td>-0.995267</td>\n",
              "      <td>-1.158233</td>\n",
              "      <td>0.877737</td>\n",
              "      <td>1.548718</td>\n",
              "      <td>0.403034</td>\n",
              "      <td>-0.407193</td>\n",
              "      <td>0.095921</td>\n",
              "      <td>0.592941</td>\n",
              "      <td>-0.270533</td>\n",
              "      <td>0.817739</td>\n",
              "      <td>0.753074</td>\n",
              "      <td>-0.822843</td>\n",
              "      <td>0.538196</td>\n",
              "      <td>1.345852</td>\n",
              "      <td>-1.119670</td>\n",
              "      <td>0.175121</td>\n",
              "      <td>-0.451449</td>\n",
              "      <td>-0.237033</td>\n",
              "      <td>-0.038195</td>\n",
              "      <td>0.803487</td>\n",
              "      <td>0.408542</td>\n",
              "      <td>-0.009431</td>\n",
              "      <td>0.798278</td>\n",
              "      <td>-0.137458</td>\n",
              "      <td>0.141267</td>\n",
              "      <td>-0.206010</td>\n",
              "      <td>0.502292</td>\n",
              "      <td>0.219422</td>\n",
              "      <td>0.215153</td>\n",
              "      <td>0</td>\n",
              "    </tr>\n",
              "  </tbody>\n",
              "</table>\n",
              "</div>"
            ],
            "text/plain": [
              "   scaled_amount  scaled_time        V1  ...       V27       V28  Class\n",
              "0       1.774718    -0.995290 -1.359807  ...  0.133558 -0.021053      0\n",
              "1      -0.268530    -0.995290  1.191857  ... -0.008983  0.014724      0\n",
              "2       4.959811    -0.995279 -1.358354  ... -0.055353 -0.059752      0\n",
              "3       1.411487    -0.995279 -0.966272  ...  0.062723  0.061458      0\n",
              "4       0.667362    -0.995267 -1.158233  ...  0.219422  0.215153      0\n",
              "\n",
              "[5 rows x 31 columns]"
            ]
          },
          "metadata": {},
          "execution_count": 16
        }
      ]
    },
    {
      "cell_type": "code",
      "metadata": {
        "colab": {
          "base_uri": "https://localhost:8080/"
        },
        "id": "yjjSfMbhyKgl",
        "outputId": "26ce89f1-9f8f-4932-d36d-0663d2b145b8"
      },
      "source": [
        "# The value of fraud and non-fraud transactions have a huge gap\n",
        "\n",
        "dataframe.Class.value_counts()"
      ],
      "execution_count": 17,
      "outputs": [
        {
          "output_type": "execute_result",
          "data": {
            "text/plain": [
              "0    283253\n",
              "1       473\n",
              "Name: Class, dtype: int64"
            ]
          },
          "metadata": {},
          "execution_count": 17
        }
      ]
    },
    {
      "cell_type": "markdown",
      "metadata": {
        "id": "yPx6w_64-5ZM"
      },
      "source": [
        "As the values are very different therefore we cannot perform the regression on this data and we need to make a sample which has the data of both fraud and non-fraud values equally."
      ]
    },
    {
      "cell_type": "markdown",
      "metadata": {
        "id": "LczZopBgOSj_"
      },
      "source": [
        "**Sub-sampling of data**"
      ]
    },
    {
      "cell_type": "markdown",
      "metadata": {
        "id": "fcEywC-sOWJe"
      },
      "source": [
        "It is necessary to create a sub-sample as the data is overfitting and  our classification models will assume that in most cases there are no frauds!<br> We want for our model is to be certain when a fraud occurs.<br>\n",
        "By having an imbalance dataframe we will not able to see the true correlations between the class and features."
      ]
    },
    {
      "cell_type": "code",
      "metadata": {
        "id": "CJIcxoUbXeWx"
      },
      "source": [
        "# Creating a sample\n",
        "\n",
        "dataframe = dataframe.sample(frac=1)\n",
        "\n",
        "# amount of fraud classes 492 rows.\n",
        "\n",
        "fraud_df = dataframe.loc[dataframe['Class'] == 1]\n",
        "non_fraud_df = dataframe.loc[dataframe['Class'] == 0][:492]\n",
        "\n",
        "normal_distributed_df = pd.concat([fraud_df, non_fraud_df])\n",
        "\n",
        "# Shuffle dataframe rows\n",
        "\n",
        "new_df = normal_distributed_df.sample(frac=1, random_state=42)\n"
      ],
      "execution_count": 18,
      "outputs": []
    },
    {
      "cell_type": "code",
      "metadata": {
        "colab": {
          "base_uri": "https://localhost:8080/",
          "height": 225
        },
        "id": "2BFfmxt6UbLO",
        "outputId": "6140a751-735c-4a5b-cc1a-ab602174999c"
      },
      "source": [
        "# New dataframe head\n",
        "\n",
        "new_df.head()"
      ],
      "execution_count": 19,
      "outputs": [
        {
          "output_type": "execute_result",
          "data": {
            "text/html": [
              "<div>\n",
              "<style scoped>\n",
              "    .dataframe tbody tr th:only-of-type {\n",
              "        vertical-align: middle;\n",
              "    }\n",
              "\n",
              "    .dataframe tbody tr th {\n",
              "        vertical-align: top;\n",
              "    }\n",
              "\n",
              "    .dataframe thead th {\n",
              "        text-align: right;\n",
              "    }\n",
              "</style>\n",
              "<table border=\"1\" class=\"dataframe\">\n",
              "  <thead>\n",
              "    <tr style=\"text-align: right;\">\n",
              "      <th></th>\n",
              "      <th>scaled_amount</th>\n",
              "      <th>scaled_time</th>\n",
              "      <th>V1</th>\n",
              "      <th>V2</th>\n",
              "      <th>V3</th>\n",
              "      <th>V4</th>\n",
              "      <th>V5</th>\n",
              "      <th>V6</th>\n",
              "      <th>V7</th>\n",
              "      <th>V8</th>\n",
              "      <th>V9</th>\n",
              "      <th>V10</th>\n",
              "      <th>V11</th>\n",
              "      <th>V12</th>\n",
              "      <th>V13</th>\n",
              "      <th>V14</th>\n",
              "      <th>V15</th>\n",
              "      <th>V16</th>\n",
              "      <th>V17</th>\n",
              "      <th>V18</th>\n",
              "      <th>V19</th>\n",
              "      <th>V20</th>\n",
              "      <th>V21</th>\n",
              "      <th>V22</th>\n",
              "      <th>V23</th>\n",
              "      <th>V24</th>\n",
              "      <th>V25</th>\n",
              "      <th>V26</th>\n",
              "      <th>V27</th>\n",
              "      <th>V28</th>\n",
              "      <th>Class</th>\n",
              "    </tr>\n",
              "  </thead>\n",
              "  <tbody>\n",
              "    <tr>\n",
              "      <th>41273</th>\n",
              "      <td>-0.292032</td>\n",
              "      <td>-0.517944</td>\n",
              "      <td>1.233761</td>\n",
              "      <td>0.336756</td>\n",
              "      <td>-0.174107</td>\n",
              "      <td>1.073067</td>\n",
              "      <td>0.077631</td>\n",
              "      <td>-0.763145</td>\n",
              "      <td>0.362654</td>\n",
              "      <td>-0.124091</td>\n",
              "      <td>-0.034990</td>\n",
              "      <td>0.049660</td>\n",
              "      <td>-0.418898</td>\n",
              "      <td>-0.567806</td>\n",
              "      <td>-1.658103</td>\n",
              "      <td>0.917386</td>\n",
              "      <td>1.113141</td>\n",
              "      <td>-0.432998</td>\n",
              "      <td>0.059301</td>\n",
              "      <td>-0.618993</td>\n",
              "      <td>-0.600287</td>\n",
              "      <td>-0.292888</td>\n",
              "      <td>0.011443</td>\n",
              "      <td>0.047530</td>\n",
              "      <td>-0.095563</td>\n",
              "      <td>0.050288</td>\n",
              "      <td>0.724719</td>\n",
              "      <td>-0.261205</td>\n",
              "      <td>-0.002018</td>\n",
              "      <td>0.003936</td>\n",
              "      <td>0</td>\n",
              "    </tr>\n",
              "    <tr>\n",
              "      <th>27362</th>\n",
              "      <td>-0.284800</td>\n",
              "      <td>-0.589606</td>\n",
              "      <td>1.081234</td>\n",
              "      <td>0.416414</td>\n",
              "      <td>0.862919</td>\n",
              "      <td>2.520863</td>\n",
              "      <td>-0.005021</td>\n",
              "      <td>0.563341</td>\n",
              "      <td>-0.123372</td>\n",
              "      <td>0.223122</td>\n",
              "      <td>-0.673598</td>\n",
              "      <td>0.644550</td>\n",
              "      <td>1.120505</td>\n",
              "      <td>1.237773</td>\n",
              "      <td>0.342362</td>\n",
              "      <td>0.038372</td>\n",
              "      <td>-1.194503</td>\n",
              "      <td>0.085406</td>\n",
              "      <td>-0.219143</td>\n",
              "      <td>-0.694259</td>\n",
              "      <td>-0.655270</td>\n",
              "      <td>-0.165249</td>\n",
              "      <td>-0.159387</td>\n",
              "      <td>-0.305154</td>\n",
              "      <td>0.053620</td>\n",
              "      <td>0.011761</td>\n",
              "      <td>0.375146</td>\n",
              "      <td>-0.106299</td>\n",
              "      <td>0.021008</td>\n",
              "      <td>0.010559</td>\n",
              "      <td>1</td>\n",
              "    </tr>\n",
              "    <tr>\n",
              "      <th>167305</th>\n",
              "      <td>1.166597</td>\n",
              "      <td>0.398510</td>\n",
              "      <td>-6.677212</td>\n",
              "      <td>5.529299</td>\n",
              "      <td>-7.193275</td>\n",
              "      <td>6.081321</td>\n",
              "      <td>-1.636071</td>\n",
              "      <td>0.500610</td>\n",
              "      <td>-4.640770</td>\n",
              "      <td>-4.339840</td>\n",
              "      <td>-0.950036</td>\n",
              "      <td>0.566680</td>\n",
              "      <td>4.315076</td>\n",
              "      <td>-4.938284</td>\n",
              "      <td>-1.105710</td>\n",
              "      <td>-8.490813</td>\n",
              "      <td>1.003626</td>\n",
              "      <td>-1.949123</td>\n",
              "      <td>-3.093013</td>\n",
              "      <td>0.124087</td>\n",
              "      <td>0.886747</td>\n",
              "      <td>-1.118687</td>\n",
              "      <td>5.563301</td>\n",
              "      <td>-1.608272</td>\n",
              "      <td>0.965322</td>\n",
              "      <td>0.163718</td>\n",
              "      <td>0.047531</td>\n",
              "      <td>0.466165</td>\n",
              "      <td>0.278547</td>\n",
              "      <td>1.471988</td>\n",
              "      <td>1</td>\n",
              "    </tr>\n",
              "    <tr>\n",
              "      <th>95597</th>\n",
              "      <td>18.526631</td>\n",
              "      <td>-0.226898</td>\n",
              "      <td>-2.923827</td>\n",
              "      <td>1.524837</td>\n",
              "      <td>-3.018758</td>\n",
              "      <td>3.289291</td>\n",
              "      <td>-5.755542</td>\n",
              "      <td>2.218276</td>\n",
              "      <td>-0.509995</td>\n",
              "      <td>-3.569444</td>\n",
              "      <td>-1.016592</td>\n",
              "      <td>-4.320536</td>\n",
              "      <td>1.277202</td>\n",
              "      <td>-3.701750</td>\n",
              "      <td>-0.971870</td>\n",
              "      <td>-4.857777</td>\n",
              "      <td>0.090606</td>\n",
              "      <td>-2.801502</td>\n",
              "      <td>-4.186808</td>\n",
              "      <td>-1.648406</td>\n",
              "      <td>1.176446</td>\n",
              "      <td>-0.447039</td>\n",
              "      <td>-0.511657</td>\n",
              "      <td>-0.122724</td>\n",
              "      <td>-4.288639</td>\n",
              "      <td>0.563797</td>\n",
              "      <td>-0.949451</td>\n",
              "      <td>-0.204532</td>\n",
              "      <td>1.510206</td>\n",
              "      <td>-0.324706</td>\n",
              "      <td>1</td>\n",
              "    </tr>\n",
              "    <tr>\n",
              "      <th>249607</th>\n",
              "      <td>0.180782</td>\n",
              "      <td>0.820282</td>\n",
              "      <td>-7.381547</td>\n",
              "      <td>-7.449015</td>\n",
              "      <td>-4.696287</td>\n",
              "      <td>3.728439</td>\n",
              "      <td>6.198304</td>\n",
              "      <td>-6.406267</td>\n",
              "      <td>-5.831452</td>\n",
              "      <td>1.457175</td>\n",
              "      <td>-0.646203</td>\n",
              "      <td>-4.029129</td>\n",
              "      <td>2.528943</td>\n",
              "      <td>-3.308722</td>\n",
              "      <td>-1.992010</td>\n",
              "      <td>-5.757216</td>\n",
              "      <td>-0.877323</td>\n",
              "      <td>-1.547552</td>\n",
              "      <td>-1.909017</td>\n",
              "      <td>0.500567</td>\n",
              "      <td>0.136722</td>\n",
              "      <td>2.932758</td>\n",
              "      <td>1.176575</td>\n",
              "      <td>-0.978692</td>\n",
              "      <td>-0.278330</td>\n",
              "      <td>-0.635874</td>\n",
              "      <td>0.123539</td>\n",
              "      <td>0.404729</td>\n",
              "      <td>0.704915</td>\n",
              "      <td>-1.229992</td>\n",
              "      <td>1</td>\n",
              "    </tr>\n",
              "  </tbody>\n",
              "</table>\n",
              "</div>"
            ],
            "text/plain": [
              "        scaled_amount  scaled_time        V1  ...       V27       V28  Class\n",
              "41273       -0.292032    -0.517944  1.233761  ... -0.002018  0.003936      0\n",
              "27362       -0.284800    -0.589606  1.081234  ...  0.021008  0.010559      1\n",
              "167305       1.166597     0.398510 -6.677212  ...  0.278547  1.471988      1\n",
              "95597       18.526631    -0.226898 -2.923827  ...  1.510206 -0.324706      1\n",
              "249607       0.180782     0.820282 -7.381547  ...  0.704915 -1.229992      1\n",
              "\n",
              "[5 rows x 31 columns]"
            ]
          },
          "metadata": {},
          "execution_count": 19
        }
      ]
    },
    {
      "cell_type": "markdown",
      "metadata": {
        "id": "u-uX0FpVUiKB"
      },
      "source": [
        "**Equally Distributing and Correlating:**"
      ]
    },
    {
      "cell_type": "code",
      "metadata": {
        "colab": {
          "base_uri": "https://localhost:8080/",
          "height": 369
        },
        "id": "go5658GKXeZP",
        "outputId": "d5f0bfe3-094a-4da3-f61a-9254642c645a"
      },
      "source": [
        "print('Distribution of the Classes in the subsample dataset')\n",
        "print(new_df['Class'].value_counts()/len(new_df))\n",
        "\n",
        "# We now have the data equally distributed in the Class\n",
        "\n",
        "sns.countplot('Class', data=new_df, palette=colors)\n",
        "plt.title('Equally Distributed Classes', fontsize=14)\n",
        "plt.show()"
      ],
      "execution_count": 20,
      "outputs": [
        {
          "output_type": "stream",
          "name": "stdout",
          "text": [
            "Distribution of the Classes in the subsample dataset\n",
            "0    0.509845\n",
            "1    0.490155\n",
            "Name: Class, dtype: float64\n"
          ]
        },
        {
          "output_type": "display_data",
          "data": {
            "image/png": "[encoded data removed]",
            "text/plain": [
              "<Figure size 432x288 with 1 Axes>"
            ]
          },
          "metadata": {
            "needs_background": "light"
          }
        }
      ]
    },
    {
      "cell_type": "markdown",
      "metadata": {
        "id": "Gn-3Znj4UyU6"
      },
      "source": [
        "**Correlation Analysis of the original dataframe**"
      ]
    },
    {
      "cell_type": "markdown",
      "metadata": {
        "id": "_AHtoJ0oVDdx"
      },
      "source": [
        "Correlation matrices are the essence of understanding our data. We want to know if there are features that influence heavily in whether a specific transaction is a fraud. However, it is important that we use the correct dataframe (subsample) in order for us to see which features have a high positive or negative correlation with regards to fraud transactions."
      ]
    },
    {
      "cell_type": "code",
      "metadata": {
        "colab": {
          "base_uri": "https://localhost:8080/",
          "height": 1000
        },
        "id": "vsR7n5KYad_L",
        "outputId": "60335970-6a3c-4af7-a693-fb7dfd42e8eb"
      },
      "source": [
        "\n",
        "f, (ax1, ax2) = plt.subplots(2, 1, figsize=(24,20))\n",
        "\n",
        "# Entire DataFrame\n",
        "corr = dataframe.corr()\n",
        "sns.heatmap(corr, cmap='coolwarm_r', annot_kws={'size':20}, ax=ax1)\n",
        "ax1.set_title(\"Imbalanced Correlation Matrix \\n (don't use for reference)\", fontsize=14)\n",
        "\n",
        "# The new dataframe\n",
        "sub_sample_corr = new_df.corr()\n",
        "sns.heatmap(sub_sample_corr, cmap='coolwarm_r', annot_kws={'size':20}, ax=ax2)\n",
        "ax2.set_title('SubSample Correlation Matrix \\n (use for reference)', fontsize=14)\n",
        "plt.show()"
      ],
      "execution_count": 21,
      "outputs": [
        {
          "output_type": "display_data",
          "data": {
            "image/png": "[encoded data removed]",
            "text/plain": [
              "<Figure size 1728x1440 with 4 Axes>"
            ]
          },
          "metadata": {
            "needs_background": "light"
          }
        }
      ]
    },
    {
      "cell_type": "markdown",
      "metadata": {
        "id": "ixPy1h2U_vLo"
      },
      "source": [
        "*The correlation can be better infered from the sample as compared to the original dataset.*"
      ]
    },
    {
      "cell_type": "markdown",
      "metadata": {
        "id": "9U0c-9Mwa53E"
      },
      "source": [
        "**Box plot for negative and positive correlations**"
      ]
    },
    {
      "cell_type": "code",
      "metadata": {
        "colab": {
          "base_uri": "https://localhost:8080/",
          "height": 283
        },
        "id": "5UmukPjMboCR",
        "outputId": "b5c49d08-9365-4f39-c387-6ce914cdc84b"
      },
      "source": [
        "f, axes = plt.subplots(ncols=4, figsize=(20,4))\n",
        "\n",
        "# Negative Correlations with our Class - The lower our feature value the more likely it will be a fraud transaction\n",
        "\n",
        "sns.boxplot(x=\"Class\", y=\"V17\", data=new_df, palette=colors, ax=axes[0])\n",
        "axes[0].set_title('V17 vs Class Negative Correlation')\n",
        "\n",
        "sns.boxplot(x=\"Class\", y=\"V14\", data=new_df, palette=colors, ax=axes[1])\n",
        "axes[1].set_title('V14 vs Class Negative Correlation')\n",
        "\n",
        "\n",
        "sns.boxplot(x=\"Class\", y=\"V12\", data=new_df, palette=colors, ax=axes[2])\n",
        "axes[2].set_title('V12 vs Class Negative Correlation')\n",
        "\n",
        "\n",
        "sns.boxplot(x=\"Class\", y=\"V10\", data=new_df, palette=colors, ax=axes[3])\n",
        "axes[3].set_title('V10 vs Class Negative Correlation')\n",
        "\n",
        "plt.show()"
      ],
      "execution_count": 22,
      "outputs": [
        {
          "output_type": "display_data",
          "data": {
            "image/png": "[encoded data removed]",
            "text/plain": [
              "<Figure size 1440x288 with 4 Axes>"
            ]
          },
          "metadata": {
            "needs_background": "light"
          }
        }
      ]
    },
    {
      "cell_type": "code",
      "metadata": {
        "colab": {
          "base_uri": "https://localhost:8080/",
          "height": 285
        },
        "id": "qqQy8FzGboGM",
        "outputId": "63778787-1e2a-4b89-8ce9-19ddf35cb9b3"
      },
      "source": [
        "\n",
        "f, axes = plt.subplots(ncols=4, figsize=(20,4))\n",
        "\n",
        "# Positive correlations (The higher the feature the probability increases that it will be a fraud transaction)\n",
        "sns.boxplot(x=\"Class\", y=\"V11\", data=new_df, palette=colors, ax=axes[0])\n",
        "axes[0].set_title('V11 vs Class Positive Correlation')\n",
        "\n",
        "sns.boxplot(x=\"Class\", y=\"V4\", data=new_df, palette=colors, ax=axes[1])\n",
        "axes[1].set_title('V4 vs Class Positive Correlation')\n",
        "\n",
        "\n",
        "sns.boxplot(x=\"Class\", y=\"V2\", data=new_df, palette=colors, ax=axes[2])\n",
        "axes[2].set_title('V2 vs Class Positive Correlation')\n",
        "\n",
        "\n",
        "sns.boxplot(x=\"Class\", y=\"V19\", data=new_df, palette=colors, ax=axes[3])\n",
        "axes[3].set_title('V19 vs Class Positive Correlation')\n",
        "\n",
        "plt.show()"
      ],
      "execution_count": 23,
      "outputs": [
        {
          "output_type": "display_data",
          "data": {
            "image/png": "[encoded data removed]",
            "text/plain": [
              "<Figure size 1440x288 with 4 Axes>"
            ]
          },
          "metadata": {
            "needs_background": "light"
          }
        }
      ]
    },
    {
      "cell_type": "markdown",
      "metadata": {
        "id": "fBMq9RnJb4mr"
      },
      "source": [
        "**Regression on the sub-sampled dataset**"
      ]
    },
    {
      "cell_type": "markdown",
      "metadata": {
        "id": "372L5O3pAK48"
      },
      "source": [
        "We have a new dataframe from the sub-sampling we did."
      ]
    },
    {
      "cell_type": "code",
      "metadata": {
        "colab": {
          "base_uri": "https://localhost:8080/",
          "height": 225
        },
        "id": "UrKVCVPeboKn",
        "outputId": "28b4113c-f327-456f-a09c-bc0da85cf3cd"
      },
      "source": [
        "new_df.head()"
      ],
      "execution_count": 24,
      "outputs": [
        {
          "output_type": "execute_result",
          "data": {
            "text/html": [
              "<div>\n",
              "<style scoped>\n",
              "    .dataframe tbody tr th:only-of-type {\n",
              "        vertical-align: middle;\n",
              "    }\n",
              "\n",
              "    .dataframe tbody tr th {\n",
              "        vertical-align: top;\n",
              "    }\n",
              "\n",
              "    .dataframe thead th {\n",
              "        text-align: right;\n",
              "    }\n",
              "</style>\n",
              "<table border=\"1\" class=\"dataframe\">\n",
              "  <thead>\n",
              "    <tr style=\"text-align: right;\">\n",
              "      <th></th>\n",
              "      <th>scaled_amount</th>\n",
              "      <th>scaled_time</th>\n",
              "      <th>V1</th>\n",
              "      <th>V2</th>\n",
              "      <th>V3</th>\n",
              "      <th>V4</th>\n",
              "      <th>V5</th>\n",
              "      <th>V6</th>\n",
              "      <th>V7</th>\n",
              "      <th>V8</th>\n",
              "      <th>V9</th>\n",
              "      <th>V10</th>\n",
              "      <th>V11</th>\n",
              "      <th>V12</th>\n",
              "      <th>V13</th>\n",
              "      <th>V14</th>\n",
              "      <th>V15</th>\n",
              "      <th>V16</th>\n",
              "      <th>V17</th>\n",
              "      <th>V18</th>\n",
              "      <th>V19</th>\n",
              "      <th>V20</th>\n",
              "      <th>V21</th>\n",
              "      <th>V22</th>\n",
              "      <th>V23</th>\n",
              "      <th>V24</th>\n",
              "      <th>V25</th>\n",
              "      <th>V26</th>\n",
              "      <th>V27</th>\n",
              "      <th>V28</th>\n",
              "      <th>Class</th>\n",
              "    </tr>\n",
              "  </thead>\n",
              "  <tbody>\n",
              "    <tr>\n",
              "      <th>41273</th>\n",
              "      <td>-0.292032</td>\n",
              "      <td>-0.517944</td>\n",
              "      <td>1.233761</td>\n",
              "      <td>0.336756</td>\n",
              "      <td>-0.174107</td>\n",
              "      <td>1.073067</td>\n",
              "      <td>0.077631</td>\n",
              "      <td>-0.763145</td>\n",
              "      <td>0.362654</td>\n",
              "      <td>-0.124091</td>\n",
              "      <td>-0.034990</td>\n",
              "      <td>0.049660</td>\n",
              "      <td>-0.418898</td>\n",
              "      <td>-0.567806</td>\n",
              "      <td>-1.658103</td>\n",
              "      <td>0.917386</td>\n",
              "      <td>1.113141</td>\n",
              "      <td>-0.432998</td>\n",
              "      <td>0.059301</td>\n",
              "      <td>-0.618993</td>\n",
              "      <td>-0.600287</td>\n",
              "      <td>-0.292888</td>\n",
              "      <td>0.011443</td>\n",
              "      <td>0.047530</td>\n",
              "      <td>-0.095563</td>\n",
              "      <td>0.050288</td>\n",
              "      <td>0.724719</td>\n",
              "      <td>-0.261205</td>\n",
              "      <td>-0.002018</td>\n",
              "      <td>0.003936</td>\n",
              "      <td>0</td>\n",
              "    </tr>\n",
              "    <tr>\n",
              "      <th>27362</th>\n",
              "      <td>-0.284800</td>\n",
              "      <td>-0.589606</td>\n",
              "      <td>1.081234</td>\n",
              "      <td>0.416414</td>\n",
              "      <td>0.862919</td>\n",
              "      <td>2.520863</td>\n",
              "      <td>-0.005021</td>\n",
              "      <td>0.563341</td>\n",
              "      <td>-0.123372</td>\n",
              "      <td>0.223122</td>\n",
              "      <td>-0.673598</td>\n",
              "      <td>0.644550</td>\n",
              "      <td>1.120505</td>\n",
              "      <td>1.237773</td>\n",
              "      <td>0.342362</td>\n",
              "      <td>0.038372</td>\n",
              "      <td>-1.194503</td>\n",
              "      <td>0.085406</td>\n",
              "      <td>-0.219143</td>\n",
              "      <td>-0.694259</td>\n",
              "      <td>-0.655270</td>\n",
              "      <td>-0.165249</td>\n",
              "      <td>-0.159387</td>\n",
              "      <td>-0.305154</td>\n",
              "      <td>0.053620</td>\n",
              "      <td>0.011761</td>\n",
              "      <td>0.375146</td>\n",
              "      <td>-0.106299</td>\n",
              "      <td>0.021008</td>\n",
              "      <td>0.010559</td>\n",
              "      <td>1</td>\n",
              "    </tr>\n",
              "    <tr>\n",
              "      <th>167305</th>\n",
              "      <td>1.166597</td>\n",
              "      <td>0.398510</td>\n",
              "      <td>-6.677212</td>\n",
              "      <td>5.529299</td>\n",
              "      <td>-7.193275</td>\n",
              "      <td>6.081321</td>\n",
              "      <td>-1.636071</td>\n",
              "      <td>0.500610</td>\n",
              "      <td>-4.640770</td>\n",
              "      <td>-4.339840</td>\n",
              "      <td>-0.950036</td>\n",
              "      <td>0.566680</td>\n",
              "      <td>4.315076</td>\n",
              "      <td>-4.938284</td>\n",
              "      <td>-1.105710</td>\n",
              "      <td>-8.490813</td>\n",
              "      <td>1.003626</td>\n",
              "      <td>-1.949123</td>\n",
              "      <td>-3.093013</td>\n",
              "      <td>0.124087</td>\n",
              "      <td>0.886747</td>\n",
              "      <td>-1.118687</td>\n",
              "      <td>5.563301</td>\n",
              "      <td>-1.608272</td>\n",
              "      <td>0.965322</td>\n",
              "      <td>0.163718</td>\n",
              "      <td>0.047531</td>\n",
              "      <td>0.466165</td>\n",
              "      <td>0.278547</td>\n",
              "      <td>1.471988</td>\n",
              "      <td>1</td>\n",
              "    </tr>\n",
              "    <tr>\n",
              "      <th>95597</th>\n",
              "      <td>18.526631</td>\n",
              "      <td>-0.226898</td>\n",
              "      <td>-2.923827</td>\n",
              "      <td>1.524837</td>\n",
              "      <td>-3.018758</td>\n",
              "      <td>3.289291</td>\n",
              "      <td>-5.755542</td>\n",
              "      <td>2.218276</td>\n",
              "      <td>-0.509995</td>\n",
              "      <td>-3.569444</td>\n",
              "      <td>-1.016592</td>\n",
              "      <td>-4.320536</td>\n",
              "      <td>1.277202</td>\n",
              "      <td>-3.701750</td>\n",
              "      <td>-0.971870</td>\n",
              "      <td>-4.857777</td>\n",
              "      <td>0.090606</td>\n",
              "      <td>-2.801502</td>\n",
              "      <td>-4.186808</td>\n",
              "      <td>-1.648406</td>\n",
              "      <td>1.176446</td>\n",
              "      <td>-0.447039</td>\n",
              "      <td>-0.511657</td>\n",
              "      <td>-0.122724</td>\n",
              "      <td>-4.288639</td>\n",
              "      <td>0.563797</td>\n",
              "      <td>-0.949451</td>\n",
              "      <td>-0.204532</td>\n",
              "      <td>1.510206</td>\n",
              "      <td>-0.324706</td>\n",
              "      <td>1</td>\n",
              "    </tr>\n",
              "    <tr>\n",
              "      <th>249607</th>\n",
              "      <td>0.180782</td>\n",
              "      <td>0.820282</td>\n",
              "      <td>-7.381547</td>\n",
              "      <td>-7.449015</td>\n",
              "      <td>-4.696287</td>\n",
              "      <td>3.728439</td>\n",
              "      <td>6.198304</td>\n",
              "      <td>-6.406267</td>\n",
              "      <td>-5.831452</td>\n",
              "      <td>1.457175</td>\n",
              "      <td>-0.646203</td>\n",
              "      <td>-4.029129</td>\n",
              "      <td>2.528943</td>\n",
              "      <td>-3.308722</td>\n",
              "      <td>-1.992010</td>\n",
              "      <td>-5.757216</td>\n",
              "      <td>-0.877323</td>\n",
              "      <td>-1.547552</td>\n",
              "      <td>-1.909017</td>\n",
              "      <td>0.500567</td>\n",
              "      <td>0.136722</td>\n",
              "      <td>2.932758</td>\n",
              "      <td>1.176575</td>\n",
              "      <td>-0.978692</td>\n",
              "      <td>-0.278330</td>\n",
              "      <td>-0.635874</td>\n",
              "      <td>0.123539</td>\n",
              "      <td>0.404729</td>\n",
              "      <td>0.704915</td>\n",
              "      <td>-1.229992</td>\n",
              "      <td>1</td>\n",
              "    </tr>\n",
              "  </tbody>\n",
              "</table>\n",
              "</div>"
            ],
            "text/plain": [
              "        scaled_amount  scaled_time        V1  ...       V27       V28  Class\n",
              "41273       -0.292032    -0.517944  1.233761  ... -0.002018  0.003936      0\n",
              "27362       -0.284800    -0.589606  1.081234  ...  0.021008  0.010559      1\n",
              "167305       1.166597     0.398510 -6.677212  ...  0.278547  1.471988      1\n",
              "95597       18.526631    -0.226898 -2.923827  ...  1.510206 -0.324706      1\n",
              "249607       0.180782     0.820282 -7.381547  ...  0.704915 -1.229992      1\n",
              "\n",
              "[5 rows x 31 columns]"
            ]
          },
          "metadata": {},
          "execution_count": 24
        }
      ]
    },
    {
      "cell_type": "code",
      "metadata": {
        "colab": {
          "base_uri": "https://localhost:8080/"
        },
        "id": "vryjhGqjboUj",
        "outputId": "59c2ada4-e35a-48e3-86d4-61389a349a02"
      },
      "source": [
        "new_df.keys()"
      ],
      "execution_count": 25,
      "outputs": [
        {
          "output_type": "execute_result",
          "data": {
            "text/plain": [
              "Index(['scaled_amount', 'scaled_time', 'V1', 'V2', 'V3', 'V4', 'V5', 'V6',\n",
              "       'V7', 'V8', 'V9', 'V10', 'V11', 'V12', 'V13', 'V14', 'V15', 'V16',\n",
              "       'V17', 'V18', 'V19', 'V20', 'V21', 'V22', 'V23', 'V24', 'V25', 'V26',\n",
              "       'V27', 'V28', 'Class'],\n",
              "      dtype='object')"
            ]
          },
          "metadata": {},
          "execution_count": 25
        }
      ]
    },
    {
      "cell_type": "markdown",
      "metadata": {
        "id": "EFiHNfzWcJLE"
      },
      "source": [
        "**Splitting the data**"
      ]
    },
    {
      "cell_type": "code",
      "metadata": {
        "id": "lwY4GXy0gjPe"
      },
      "source": [
        "# Splitting the data in the x and y parametrs.\n",
        "# x is the parameters to be feeded in the model for prediction.\n",
        "# y is the prediction values.\n",
        "\n",
        "x = new_df.drop(columns = ['Class'], axis = 1)\n",
        "y = new_df['Class']"
      ],
      "execution_count": 26,
      "outputs": []
    },
    {
      "cell_type": "code",
      "metadata": {
        "colab": {
          "base_uri": "https://localhost:8080/"
        },
        "id": "rv47LLX__7Ku",
        "outputId": "dfcfc390-af23-471f-b046-ccb624998863"
      },
      "source": [
        "X_train, X_test, Y_train, Y_test = train_test_split(x,y, test_size = 0.2, random_state = 2)\n",
        "print(X_train.shape , X_test.shape)"
      ],
      "execution_count": 27,
      "outputs": [
        {
          "output_type": "stream",
          "name": "stdout",
          "text": [
            "(772, 30) (193, 30)\n"
          ]
        }
      ]
    },
    {
      "cell_type": "markdown",
      "metadata": {
        "id": "pREHyrxIcQyM"
      },
      "source": [
        "**Logistic Regression**"
      ]
    },
    {
      "cell_type": "code",
      "metadata": {
        "colab": {
          "base_uri": "https://localhost:8080/"
        },
        "id": "wUFmTeg2Z9nS",
        "outputId": "5d0d1037-8f47-4e7b-c6ce-876dd8b97699"
      },
      "source": [
        "model = LogisticRegression()\n",
        "model.fit(X_train, Y_train)"
      ],
      "execution_count": 28,
      "outputs": [
        {
          "output_type": "execute_result",
          "data": {
            "text/plain": [
              "LogisticRegression(C=1.0, class_weight=None, dual=False, fit_intercept=True,\n",
              "                   intercept_scaling=1, l1_ratio=None, max_iter=100,\n",
              "                   multi_class='auto', n_jobs=None, penalty='l2',\n",
              "                   random_state=None, solver='lbfgs', tol=0.0001, verbose=0,\n",
              "                   warm_start=False)"
            ]
          },
          "metadata": {},
          "execution_count": 28
        }
      ]
    },
    {
      "cell_type": "markdown",
      "metadata": {
        "id": "X8m28PxYcW4t"
      },
      "source": [
        "**Accuracy Score**"
      ]
    },
    {
      "cell_type": "code",
      "metadata": {
        "colab": {
          "base_uri": "https://localhost:8080/"
        },
        "id": "lpFBW9O9A2Sg",
        "outputId": "d9ed925c-274a-4686-e3ab-d15dce4808ea"
      },
      "source": [
        "y_pred = model.predict(X_test)\n",
        "print(\"Accuracy score:\",(round(accuracy_score(Y_test, y_pred)*100, 2)),'%')"
      ],
      "execution_count": 29,
      "outputs": [
        {
          "output_type": "stream",
          "name": "stdout",
          "text": [
            "Accuracy score: 95.34 %\n"
          ]
        }
      ]
    },
    {
      "cell_type": "code",
      "metadata": {
        "id": "3k2IhVX8ATZQ",
        "colab": {
          "base_uri": "https://localhost:8080/"
        },
        "outputId": "89f4e207-1b8d-4657-a79f-4ee7a3510fb9"
      },
      "source": [
        "x_train_prediction = model.predict(X_train)\n",
        "training_data_accuracy = accuracy_score(Y_train, x_train_prediction)\n",
        "print('Training Data Accuracy : ', training_data_accuracy)"
      ],
      "execution_count": 30,
      "outputs": [
        {
          "output_type": "stream",
          "name": "stdout",
          "text": [
            "Training Data Accuracy :  0.9481865284974094\n"
          ]
        }
      ]
    },
    {
      "cell_type": "code",
      "metadata": {
        "colab": {
          "base_uri": "https://localhost:8080/"
        },
        "id": "4aN7KVhGKzjF",
        "outputId": "763d9e41-30da-4c67-fe12-60ba6c3146c9"
      },
      "source": [
        "X_test_prediction = model.predict(X_test)\n",
        "testing_data_accuracy = accuracy_score(Y_test, X_test_prediction)\n",
        "print('Testing Data Accuracy:', testing_data_accuracy)\n"
      ],
      "execution_count": 31,
      "outputs": [
        {
          "output_type": "stream",
          "name": "stdout",
          "text": [
            "Testing Data Accuracy: 0.9533678756476683\n"
          ]
        }
      ]
    },
    {
      "cell_type": "markdown",
      "metadata": {
        "id": "s1fLnrxlcd95"
      },
      "source": [
        "**Confusion matrix**"
      ]
    },
    {
      "cell_type": "code",
      "metadata": {
        "colab": {
          "base_uri": "https://localhost:8080/",
          "height": 300
        },
        "id": "fkUbhpOOBEaz",
        "outputId": "337f1c42-78cf-45b9-9124-fca02bb2a311"
      },
      "source": [
        "log_reg_cf = confusion_matrix(Y_test, y_pred)\n",
        "fig, ax = plt.subplots(figsize=(6,4))\n",
        "sns.heatmap(log_reg_cf, annot=True, cmap=plt.cm.copper)\n",
        "ax.set_title(\"Logistic Regression \\n Confusion Matrix\", fontsize=14)\n",
        "ax.set_xticklabels(['', ''], fontsize=14, rotation=90)\n",
        "ax.set_yticklabels(['', ''], fontsize=14, rotation=360)"
      ],
      "execution_count": 32,
      "outputs": [
        {
          "output_type": "execute_result",
          "data": {
            "text/plain": [
              "[Text(0, 0.5, ''), Text(0, 1.5, '')]"
            ]
          },
          "metadata": {},
          "execution_count": 32
        },
        {
          "output_type": "display_data",
          "data": {
            "image/png": "[encoded data removed]",
            "text/plain": [
              "<Figure size 432x288 with 2 Axes>"
            ]
          },
          "metadata": {
            "needs_background": "light"
          }
        }
      ]
    },
    {
      "cell_type": "markdown",
      "metadata": {
        "id": "BEh7wl0AcwmF"
      },
      "source": [
        "**Classification Report**"
      ]
    },
    {
      "cell_type": "code",
      "metadata": {
        "colab": {
          "base_uri": "https://localhost:8080/"
        },
        "id": "GBLvItI2Bh-4",
        "outputId": "28cfec02-5a1a-4474-f1b1-740762ab6af0"
      },
      "source": [
        "print(classification_report(Y_test, y_pred))"
      ],
      "execution_count": 33,
      "outputs": [
        {
          "output_type": "stream",
          "name": "stdout",
          "text": [
            "              precision    recall  f1-score   support\n",
            "\n",
            "           0       0.92      0.99      0.96        98\n",
            "           1       0.99      0.92      0.95        95\n",
            "\n",
            "    accuracy                           0.95       193\n",
            "   macro avg       0.96      0.95      0.95       193\n",
            "weighted avg       0.96      0.95      0.95       193\n",
            "\n"
          ]
        }
      ]
    },
    {
      "cell_type": "markdown",
      "metadata": {
        "id": "1kWYhl4Vc5NB"
      },
      "source": [
        "**Test Case**"
      ]
    },
    {
      "cell_type": "code",
      "metadata": {
        "id": "WPYCLxOedilW"
      },
      "source": [
        "# Here we have a row from our dataset.\n",
        "\n",
        "input_data = x[6:7]"
      ],
      "execution_count": 34,
      "outputs": []
    },
    {
      "cell_type": "code",
      "metadata": {
        "id": "aiVndMGIK5O7",
        "colab": {
          "base_uri": "https://localhost:8080/"
        },
        "outputId": "ff7adc9d-7ce3-4d9d-d0d4-cc2f5df258ab"
      },
      "source": [
        "input_data_as_array = np.asarray(input_data)\n",
        "input_data_reshaped = input_data_as_array.reshape(1,-1)\n",
        "prediction = model.predict(input_data_reshaped)\n",
        "print(prediction)\n",
        "if(prediction[0] == 0):\n",
        "  print(\"This isn't a fraud transaction\")\n",
        "else:\n",
        "  print(\"The is a fraud transaction\")"
      ],
      "execution_count": 35,
      "outputs": [
        {
          "output_type": "stream",
          "name": "stdout",
          "text": [
            "[1]\n",
            "The is a fraud transaction\n"
          ]
        }
      ]
    },
    {
      "cell_type": "markdown",
      "metadata": {
        "id": "A9phl3rcdWGg"
      },
      "source": [
        "**Verification of our prediction model.**"
      ]
    },
    {
      "cell_type": "code",
      "metadata": {
        "colab": {
          "base_uri": "https://localhost:8080/"
        },
        "id": "_OUyrw1piU1n",
        "outputId": "9e6f1206-8285-4154-f29f-1feab8544ac5"
      },
      "source": [
        "# Original output\n",
        "\n",
        "output_data = y[6:7]\n",
        "output_data\n",
        "\n",
        "# It states a fraud transaction as per the features provided."
      ],
      "execution_count": 36,
      "outputs": [
        {
          "output_type": "execute_result",
          "data": {
            "text/plain": [
              "8845    1\n",
              "Name: Class, dtype: int64"
            ]
          },
          "metadata": {},
          "execution_count": 36
        }
      ]
    },
    {
      "cell_type": "markdown",
      "metadata": {
        "id": "6w3-jpuxd2at"
      },
      "source": [
        "*We can see that the original and the predicted values are same. Therefore our model works.*"
      ]
    },
    {
      "cell_type": "markdown",
      "metadata": {
        "id": "H4CYpznMeA16"
      },
      "source": [
        "Submitted by : Poorvi Sharma"
      ]
    }
  ]
}